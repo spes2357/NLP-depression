{
  "nbformat": 4,
  "nbformat_minor": 0,
  "metadata": {
    "colab": {
      "name": "Hybrid_NLP_Project_version1.ipynb",
      "provenance": [],
      "collapsed_sections": [],
      "toc_visible": true,
      "include_colab_link": true
    },
    "kernelspec": {
      "name": "python3",
      "display_name": "Python 3"
    },
    "accelerator": "GPU"
  },
  "cells": [
    {
      "cell_type": "markdown",
      "metadata": {
        "id": "view-in-github",
        "colab_type": "text"
      },
      "source": [
        "<a href=\"https://colab.research.google.com/github/brianp0513/NLP-project/blob/main/Hybrid_NLP_Project_version1.ipynb\" target=\"_parent\"><img src=\"https://colab.research.google.com/assets/colab-badge.svg\" alt=\"Open In Colab\"/></a>"
      ]
    },
    {
      "cell_type": "code",
      "metadata": {
        "id": "pkHUuou2n3Lt",
        "outputId": "1841d759-b94c-4ef8-9b3e-5b4d9e935966",
        "colab": {
          "base_uri": "https://localhost:8080/"
        }
      },
      "source": [
        "from google.colab import drive\n",
        "drive.mount('/content/drive')"
      ],
      "execution_count": null,
      "outputs": [
        {
          "output_type": "stream",
          "text": [
            "Mounted at /content/drive\n"
          ],
          "name": "stdout"
        }
      ]
    },
    {
      "cell_type": "markdown",
      "metadata": {
        "id": "sbloUVI6akO0"
      },
      "source": [
        "# data preprocessing"
      ]
    },
    {
      "cell_type": "code",
      "metadata": {
        "id": "sHifi-2u9F7P",
        "outputId": "e763c7e5-cd6f-41ce-a064-c58413718416",
        "colab": {
          "base_uri": "https://localhost:8080/"
        }
      },
      "source": [
        "import pandas as pd\n",
        "import numpy as np\n",
        "import matplotlib.pyplot as plt\n",
        "import seaborn as sns\n",
        "from sklearn.cluster import KMeans\n",
        "from keras.preprocessing.text import Tokenizer\n",
        "from keras.preprocessing import sequence\n",
        "%matplotlib inline\n",
        "import time\n",
        "import re\n",
        "from wordcloud import WordCloud\n",
        "import random\n",
        "import os\n",
        "from sklearn import metrics \n",
        "from scipy.spatial.distance import cdist \n",
        "from sklearn.model_selection import train_test_split\n",
        "import tensorflow as tf\n",
        "from keras.optimizers import RMSprop\n",
        "from keras.callbacks import EarlyStopping\n",
        "  \n",
        "import nltk\n",
        "from nltk.stem import PorterStemmer,WordNetLemmatizer\n",
        "import pandas as pd\n",
        "import numpy as np\n",
        "import matplotlib.pyplot as plt\n",
        "import re\n",
        "from wordcloud import WordCloud\n",
        "from sklearn.feature_extraction.text import CountVectorizer, TfidfTransformer\n",
        "from sklearn.naive_bayes import MultinomialNB\n",
        "from sklearn.model_selection import train_test_split\n",
        "from collections import OrderedDict\n",
        "import os\n",
        "plt.style.use('ggplot')\n",
        "nltk.download('punkt')\n",
        "nltk.download('stopwords')\n",
        "nltk.download('wordnet')"
      ],
      "execution_count": null,
      "outputs": [
        {
          "output_type": "stream",
          "text": [
            "[nltk_data] Downloading package punkt to /root/nltk_data...\n",
            "[nltk_data]   Unzipping tokenizers/punkt.zip.\n",
            "[nltk_data] Downloading package stopwords to /root/nltk_data...\n",
            "[nltk_data]   Unzipping corpora/stopwords.zip.\n",
            "[nltk_data] Downloading package wordnet to /root/nltk_data...\n",
            "[nltk_data]   Unzipping corpora/wordnet.zip.\n"
          ],
          "name": "stdout"
        },
        {
          "output_type": "execute_result",
          "data": {
            "text/plain": [
              "True"
            ]
          },
          "metadata": {
            "tags": []
          },
          "execution_count": 2
        }
      ]
    },
    {
      "cell_type": "code",
      "metadata": {
        "id": "SNvfypBo_adC"
      },
      "source": [
        "def getTextFromFiles(df, data_path, depression, limit):\n",
        "    \"\"\"Return Data Frame \"\"\"\n",
        "\n",
        "    for file in os.listdir(data_path)[:limit]:\n",
        "        with open(data_path + \"/\" + file, 'r', encoding=\"ISO-8859-1\") as file1:\n",
        "            file1 = file1.read()\n",
        "            df = df.append({'text': file1, 'depression': int(depression)}, ignore_index=True)\n",
        "\n",
        "    return df\n"
      ],
      "execution_count": null,
      "outputs": []
    },
    {
      "cell_type": "code",
      "metadata": {
        "id": "ZRdvEWsDImo6"
      },
      "source": [
        "def dataPreprocessingForX(df, columnName1):\n",
        "    df[columnName1] = df[columnName1].map(lambda text: text.lower())\n",
        "    df[columnName1] = df[columnName1].map(lambda text: nltk.tokenize.word_tokenize(text))\n",
        "    stop_words = set(nltk.corpus.stopwords.words('english'))\n",
        "    df[columnName1] = df[columnName1].map(lambda tokens: [w for w in tokens if not w in stop_words])\n",
        "    df[columnName1] = df[columnName1].map(lambda text: ' '.join(text))\n",
        "    df[columnName1] = df[columnName1].map(lambda text: re.sub('[^A-Za-z]+', ' ', text))\n",
        "    df[columnName1] = df[columnName1].map(lambda text: nltk.tokenize.word_tokenize(text))\n",
        "    lemmatizer = WordNetLemmatizer()\n",
        "    df[columnName1] = df[columnName1].map(lambda text: [lemmatizer.lemmatize(i) for i in text])\n",
        "    df[columnName1] = df[columnName1].map(lambda text: ' '.join(text))\n",
        "\n",
        "def dataPreprocessingForY(df, columnName2):\n",
        "    df[columnName2] = df[columnName2].astype('int32')"
      ],
      "execution_count": null,
      "outputs": []
    },
    {
      "cell_type": "code",
      "metadata": {
        "id": "M7jNGPzy_w8g"
      },
      "source": [
        "data_path_d = \"/content/drive/My Drive/NLP Team/code/kerasData/reddit_depression\"\n",
        "data_path_nd = \"/content/drive/My Drive/NLP Team/code/kerasData/reddit_non_depression\"\n",
        "df = pd.DataFrame(columns=['text', 'depression'])\n",
        "df = getTextFromFiles(df, data_path_d, 1, 1000)\n",
        "df = getTextFromFiles(df, data_path_nd, 0, 500)\n"
      ],
      "execution_count": null,
      "outputs": []
    },
    {
      "cell_type": "code",
      "metadata": {
        "id": "v5mv7cVlvN7q"
      },
      "source": [
        "dataPreprocessingForX(df, 'text')\n",
        "dataPreprocessingForY(df, 'depression')"
      ],
      "execution_count": null,
      "outputs": []
    },
    {
      "cell_type": "code",
      "metadata": {
        "id": "PLgl-2iYDNp7"
      },
      "source": [
        "X = df['text'].to_numpy()\n",
        "Y = df['depression'].to_numpy()\n",
        "X_train,X_test,Y_train,Y_test = train_test_split(X,Y,test_size=0.30)\n",
        "\n",
        "max_words = 1000\n",
        "max_len = 150\n",
        "\n",
        "tok = Tokenizer(num_words=max_words)\n",
        "tok.fit_on_texts(X_train)\n",
        "sequences = tok.texts_to_sequences(X_train)\n",
        "sequences_matrix = sequence.pad_sequences(sequences,maxlen=max_len)\n",
        "test_sequences = tok.texts_to_sequences(X_test)\n",
        "test_sequences_matrix = sequence.pad_sequences(test_sequences,maxlen=max_len)\n",
        "\n",
        "\n",
        "# classifier.fit(counts, Y_train)\n",
        "# test_counts = count_vectorizer.transform(X_test)\n",
        "# predictions = classifier.predict(test_counts)"
      ],
      "execution_count": null,
      "outputs": []
    },
    {
      "cell_type": "markdown",
      "metadata": {
        "id": "iyw1U8NnJ5i2"
      },
      "source": [
        ""
      ]
    },
    {
      "cell_type": "markdown",
      "metadata": {
        "id": "ypupi9sYap6i"
      },
      "source": [
        "# K mean"
      ]
    },
    {
      "cell_type": "code",
      "metadata": {
        "id": "s-CljAjutz6H"
      },
      "source": [
        "\n",
        "def kmean(X_train_kmean):\n",
        "  init_centroid = 'k-means++'\n",
        "  y_kmList = []\n",
        "  distortions = [] \n",
        "  inertias = [] \n",
        "  mapping1 = {} \n",
        "  mapping2 = {}\n",
        "  K = range(1,10)\n",
        "  # X_train_kmean =  test_sequences_matrix\n",
        "  # X_train_kmean = counts.toarray()\n",
        "  for k in K:\n",
        "      #Building and fitting the model \n",
        "      kmeanModel = KMeans(n_clusters=k, init = init_centroid, random_state=0)\n",
        "      y_km = kmeanModel.fit(X_train_kmean)  \n",
        "        \n",
        "      distortions.append(sum(np.min(cdist(X_train_kmean, kmeanModel.cluster_centers_, \n",
        "                        'euclidean'),axis=1)) / X_train_kmean.shape[0]) \n",
        "      inertias.append(kmeanModel.inertia_) \n",
        "\n",
        "      y_kmList.append(y_km.labels_)\n",
        "\n",
        "      mapping1[k] = sum(np.min(cdist(X_train_kmean, kmeanModel.cluster_centers_, \n",
        "                  'euclidean'),axis=1)) / X_train_kmean.shape[0] \n",
        "      mapping2[k] = kmeanModel.inertia_ \n",
        "\n",
        "\n",
        "  plt.plot(K, distortions, 'bx-') \n",
        "  plt.xlabel('Values of K') \n",
        "  plt.ylabel('Distortion') \n",
        "  plt.title('The Elbow Method using Distortion') \n",
        "  plt.show() \n",
        "\n",
        "  # for key,val in mapping1.items(): \n",
        "  #   print(str(key)+' : '+str(val))\n",
        "  \n",
        "  # plt.plot(K, inertias, 'bx-')\n",
        "  # plt.xlabel('Values of K')\n",
        "  # plt.ylabel('Inertia')\n",
        "  # plt.title('The Elbow Method using Inertia') \n",
        "  # plt.show() \n",
        "\n",
        "  # for key,val in mapping2.items(): \n",
        "  #   print(str(key)+' : '+str(val))\n",
        "\n",
        "\n",
        "  return y_kmList\n",
        "# print(np.shape(y_km))\n",
        "# plt.scatter(X[y_km==0, 0], X[y_km==0,1],c='lightgreen',marker='s',s=510,label='cluster1')\n",
        "# plt.scatter(X[y_km==1, 0], X[y_km==1,1],c='orange',marker='o',s=50,label='cluster2')\n",
        "# plt.scatter(km.cluster_centers_[:,0],km.cluster_centers_[:,1],c='red',marker='*',s=50,label='center')\n",
        "\n",
        "# plt.legend()\n",
        "# plt.grid(True)\n",
        "# plt.show()\n"
      ],
      "execution_count": null,
      "outputs": []
    },
    {
      "cell_type": "code",
      "metadata": {
        "id": "6aO2izT2vwL4"
      },
      "source": [
        "# print(sequences_matrix)\n",
        "# print(y_kmList)"
      ],
      "execution_count": null,
      "outputs": []
    },
    {
      "cell_type": "code",
      "metadata": {
        "id": "hSp-kZQC2VjB"
      },
      "source": [
        "def kmeanClusterResult(y_kmList, X):\n",
        "  zero_list = []\n",
        "  one_list = []\n",
        "  two_list = []\n",
        "\n",
        "  for idx,iteration in enumerate(y_kmList[1]):\n",
        "    if iteration == 1:\n",
        "      one_list.append(idx)\n",
        "    elif iteration == 2:\n",
        "      two_list.append(idx)\n",
        "    else:\n",
        "      zero_list.append(idx)\n",
        "  # print(zero_list)\n",
        "  # print(one_list)\n",
        "  # print(two_list)\n",
        "  # print(X.shape)\n",
        "  cluster_zero = []\n",
        "  cluster_one = []\n",
        "  cluster_two = []\n",
        "  for index in zero_list:\n",
        "    sentence = X[index]\n",
        "    cluster_zero.append(sentence)\n",
        "    \n",
        "  # print(cluster_zero)\n",
        "  for index in one_list:\n",
        "    sentence = X[index]\n",
        "    cluster_one.append(sentence)\n",
        "\n",
        "  for index in two_list:\n",
        "    sentence = X[index]\n",
        "    cluster_two.append(sentence)\n",
        "\n",
        "  return zero_list, one_list"
      ],
      "execution_count": null,
      "outputs": []
    },
    {
      "cell_type": "code",
      "metadata": {
        "id": "95fRgH5C51nR"
      },
      "source": [
        "def makeWorldCloud(llist):\n",
        "  depression_words = ''.join(llist)\n",
        "  depression_wordclod = WordCloud(width = 512,height = 512).generate(depression_words)\n",
        "  plt.figure(figsize = (10, 8), facecolor = 'k')\n",
        "  plt.imshow(depression_wordclod)\n",
        "  plt.axis('off')\n",
        "  plt.tight_layout(pad = 0)\n",
        "  plt.show()\n",
        "# makeWorldCloud(cluster_zero)\n",
        "# makeWorldCloud(cluster_one)\n",
        "# makeWorldCloud(cluster_two)"
      ],
      "execution_count": null,
      "outputs": []
    },
    {
      "cell_type": "code",
      "metadata": {
        "id": "fsU616HpJmnq",
        "outputId": "aa33820f-ddb8-4193-f0ca-37febc93c74d",
        "colab": {
          "base_uri": "https://localhost:8080/",
          "height": 299
        }
      },
      "source": [
        "y_kmList = kmean(test_sequences_matrix)\n",
        "zero_list, one_list = kmeanClusterResult(y_kmList, X)"
      ],
      "execution_count": null,
      "outputs": [
        {
          "output_type": "display_data",
          "data": {
            "image/png": "[encoded data removed]",
            "text/plain": [
              "<Figure size 432x288 with 1 Axes>"
            ]
          },
          "metadata": {
            "tags": []
          }
        }
      ]
    },
    {
      "cell_type": "markdown",
      "metadata": {
        "id": "JbtW5b2BauhJ"
      },
      "source": [
        "# LSTM"
      ]
    },
    {
      "cell_type": "code",
      "metadata": {
        "id": "78qCg4MFa0po",
        "outputId": "d14a9e00-4ec2-4344-8451-1db18ff2ed0b",
        "colab": {
          "base_uri": "https://localhost:8080/"
        }
      },
      "source": [
        "# X_train,X_test,Y_train,Y_test = train_test_split(X,Y,test_size=0.15)\n",
        "\n",
        "max_words = 1000\n",
        "max_len = 150\n",
        "\n",
        "# tok = Tokenizer(num_words=max_words)\n",
        "# tok.fit_on_texts(X_train)\n",
        "# sequences = tok.texts_to_sequences(X_train)\n",
        "# sequences_matrix = sequence.pad_sequences(sequences,maxlen=max_len)\n",
        "# test_sequences = tok.texts_to_sequences(X_test)\n",
        "# test_sequences_matrix = sequence.pad_sequences(test_sequences,maxlen=max_len)\n",
        "\n",
        "sequences_zeroClust = tok.texts_to_sequences(X[zero_list])\n",
        "sequences_matrix_zeroClust = sequence.pad_sequences(sequences_zeroClust,maxlen=max_len)\n",
        "sequences_oneClust = tok.texts_to_sequences(X[one_list])\n",
        "sequences_matrix_oneClust = sequence.pad_sequences(sequences_oneClust,maxlen=max_len)\n",
        "\n",
        "test_sequences_matrix = sequences_matrix_zeroClust\n",
        "Y_test_LSTM = Y[zero_list]\n",
        "\n",
        "# test_sequences_matrix = sequences_matrix_oneClust\n",
        "# Y_test = Y[one_list]\n",
        "\n",
        "model = tf.keras.models.Sequential()\n",
        "model.add(tf.keras.layers.Embedding(max_words,50,input_length=max_len))\n",
        "model.add(tf.keras.layers.LSTM(64))\n",
        "model.add(tf.keras.layers.Dense(256))\n",
        "model.add(tf.keras.layers.Activation('relu'))\n",
        "model.add(tf.keras.layers.Dropout(0.5))\n",
        "model.add(tf.keras.layers.Dense(1))\n",
        "model.add(tf.keras.layers.Activation('sigmoid'))\n",
        "\n",
        "# model.build(input_shape=sequences_matrix.shape)\n",
        "# model.compile(loss='binary_crossentropy',optimizer=RMSprop(),metrics=['accuracy'])\n",
        "opt = tf.keras.optimizers.Adam(learning_rate=0.0003)\n",
        "model.compile(loss='binary_crossentropy',optimizer=opt,metrics=['accuracy'])\n",
        "\n",
        "model.fit(sequences_matrix.astype(float), Y_train.astype(float), batch_size=4,epochs=10,\n",
        "          validation_split=0.2,callbacks=[EarlyStopping(monitor='val_loss',min_delta=0.0001)])\n",
        "accr = model.evaluate(test_sequences_matrix, Y_test_LSTM.astype(float))\n",
        "\n",
        "print(\" LSTM\")\n",
        "print('Test set\\n  Loss: {:0.3f}\\n  Accuracy: {:0.3f}'.format(accr[0],accr[1]))\n",
        "\n"
      ],
      "execution_count": null,
      "outputs": [
        {
          "output_type": "stream",
          "text": [
            "Epoch 1/10\n",
            "210/210 [==============================] - 3s 13ms/step - loss: 0.6436 - accuracy: 0.6619 - val_loss: 0.5530 - val_accuracy: 0.6714\n",
            "Epoch 2/10\n",
            "210/210 [==============================] - 2s 9ms/step - loss: 0.4212 - accuracy: 0.8155 - val_loss: 0.2807 - val_accuracy: 0.8762\n",
            "Epoch 3/10\n",
            "210/210 [==============================] - 2s 9ms/step - loss: 0.1705 - accuracy: 0.9333 - val_loss: 0.2462 - val_accuracy: 0.9190\n",
            "Epoch 4/10\n",
            "210/210 [==============================] - 2s 10ms/step - loss: 0.1096 - accuracy: 0.9619 - val_loss: 0.2364 - val_accuracy: 0.9143\n",
            "Epoch 5/10\n",
            "210/210 [==============================] - 2s 9ms/step - loss: 0.0560 - accuracy: 0.9786 - val_loss: 0.3101 - val_accuracy: 0.8905\n",
            "5/5 [==============================] - 0s 5ms/step - loss: 0.1963 - accuracy: 0.9416\n",
            " LSTM\n",
            "Test set\n",
            "  Loss: 0.196\n",
            "  Accuracy: 0.942\n"
          ],
          "name": "stdout"
        }
      ]
    }
  ]
}