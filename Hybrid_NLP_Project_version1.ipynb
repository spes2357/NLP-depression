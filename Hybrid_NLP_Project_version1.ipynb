{
  "nbformat": 4,
  "nbformat_minor": 0,
  "metadata": {
    "colab": {
      "name": "Hybrid_NLP_Project_version1.ipynb",
      "provenance": [],
      "collapsed_sections": [],
      "toc_visible": true,
      "include_colab_link": true
    },
    "kernelspec": {
      "name": "python3",
      "display_name": "Python 3"
    },
    "accelerator": "GPU"
  },
  "cells": [
    {
      "cell_type": "markdown",
      "metadata": {
        "id": "view-in-github",
        "colab_type": "text"
      },
      "source": [
        "<a href=\"https://colab.research.google.com/github/brianp0513/NLP-project/blob/main/Hybrid_NLP_Project_version1.ipynb\" target=\"_parent\"><img src=\"https://colab.research.google.com/assets/colab-badge.svg\" alt=\"Open In Colab\"/></a>"
      ]
    },
    {
      "cell_type": "code",
      "metadata": {
        "id": "pkHUuou2n3Lt",
        "outputId": "136b3277-d772-4fd1-904a-2226ac258325",
        "colab": {
          "base_uri": "https://localhost:8080/"
        }
      },
      "source": [
        "from google.colab import drive\n",
        "drive.mount('/content/drive')"
      ],
      "execution_count": 40,
      "outputs": [
        {
          "output_type": "stream",
          "text": [
            "Drive already mounted at /content/drive; to attempt to forcibly remount, call drive.mount(\"/content/drive\", force_remount=True).\n"
          ],
          "name": "stdout"
        }
      ]
    },
    {
      "cell_type": "markdown",
      "metadata": {
        "id": "sbloUVI6akO0"
      },
      "source": [
        "# data preprocessing"
      ]
    },
    {
      "cell_type": "code",
      "metadata": {
        "id": "sHifi-2u9F7P",
        "outputId": "29756e70-8792-4112-c22c-c34150c62100",
        "colab": {
          "base_uri": "https://localhost:8080/"
        }
      },
      "source": [
        "import pandas as pd\n",
        "import numpy as np\n",
        "import matplotlib.pyplot as plt\n",
        "import seaborn as sns\n",
        "from sklearn.cluster import KMeans\n",
        "from keras.preprocessing.text import Tokenizer\n",
        "from keras.preprocessing import sequence\n",
        "%matplotlib inline\n",
        "import time\n",
        "import re\n",
        "from wordcloud import WordCloud\n",
        "import random\n",
        "import os\n",
        "from sklearn import metrics \n",
        "from scipy.spatial.distance import cdist \n",
        "from sklearn.model_selection import train_test_split\n",
        "import tensorflow as tf\n",
        "from keras.optimizers import RMSprop\n",
        "from keras.callbacks import EarlyStopping\n",
        "  \n",
        "import nltk\n",
        "from nltk.stem import PorterStemmer,WordNetLemmatizer\n",
        "import pandas as pd\n",
        "import numpy as np\n",
        "import matplotlib.pyplot as plt\n",
        "import re\n",
        "from wordcloud import WordCloud\n",
        "from sklearn.feature_extraction.text import CountVectorizer, TfidfTransformer\n",
        "from sklearn.naive_bayes import MultinomialNB\n",
        "from sklearn.model_selection import train_test_split\n",
        "from collections import OrderedDict\n",
        "import os\n",
        "plt.style.use('ggplot')\n",
        "nltk.download('punkt')\n",
        "nltk.download('stopwords')\n",
        "nltk.download('wordnet')"
      ],
      "execution_count": 41,
      "outputs": [
        {
          "output_type": "stream",
          "text": [
            "[nltk_data] Downloading package punkt to /root/nltk_data...\n",
            "[nltk_data]   Package punkt is already up-to-date!\n",
            "[nltk_data] Downloading package stopwords to /root/nltk_data...\n",
            "[nltk_data]   Package stopwords is already up-to-date!\n",
            "[nltk_data] Downloading package wordnet to /root/nltk_data...\n",
            "[nltk_data]   Package wordnet is already up-to-date!\n"
          ],
          "name": "stdout"
        },
        {
          "output_type": "execute_result",
          "data": {
            "text/plain": [
              "True"
            ]
          },
          "metadata": {
            "tags": []
          },
          "execution_count": 41
        }
      ]
    },
    {
      "cell_type": "code",
      "metadata": {
        "id": "SNvfypBo_adC"
      },
      "source": [
        "def getTextFromFiles(df, data_path, depression, limit):\n",
        "    \"\"\"Return Data Frame \"\"\"\n",
        "\n",
        "    for file in os.listdir(data_path)[:limit]:\n",
        "        with open(data_path + \"/\" + file, 'r', encoding=\"ISO-8859-1\") as file1:\n",
        "            file1 = file1.read()\n",
        "            df = df.append({'text': file1, 'depression': int(depression)}, ignore_index=True)\n",
        "\n",
        "    return df\n"
      ],
      "execution_count": 42,
      "outputs": []
    },
    {
      "cell_type": "code",
      "metadata": {
        "id": "ZRdvEWsDImo6"
      },
      "source": [
        "def dataPreprocessingForX(df, columnName1):\n",
        "    df[columnName1] = df[columnName1].map(lambda text: text.lower())\n",
        "    df[columnName1] = df[columnName1].map(lambda text: nltk.tokenize.word_tokenize(text))\n",
        "    stop_words = set(nltk.corpus.stopwords.words('english'))\n",
        "    df[columnName1] = df[columnName1].map(lambda tokens: [w for w in tokens if not w in stop_words])\n",
        "    df[columnName1] = df[columnName1].map(lambda text: ' '.join(text))\n",
        "    df[columnName1] = df[columnName1].map(lambda text: re.sub('[^A-Za-z]+', ' ', text))\n",
        "    df[columnName1] = df[columnName1].map(lambda text: nltk.tokenize.word_tokenize(text))\n",
        "    lemmatizer = WordNetLemmatizer()\n",
        "    df[columnName1] = df[columnName1].map(lambda text: [lemmatizer.lemmatize(i) for i in text])\n",
        "    df[columnName1] = df[columnName1].map(lambda text: ' '.join(text))\n",
        "\n",
        "def dataPreprocessingForY(df, columnName2):\n",
        "    df[columnName2] = df[columnName2].astype('int32')"
      ],
      "execution_count": 43,
      "outputs": []
    },
    {
      "cell_type": "code",
      "metadata": {
        "id": "M7jNGPzy_w8g"
      },
      "source": [
        "data_path_d = \"/content/drive/My Drive/NLP Team/code/kerasData/reddit_depression\"\n",
        "data_path_nd = \"/content/drive/My Drive/NLP Team/code/kerasData/reddit_non_depression\"\n",
        "df = pd.DataFrame(columns=['text', 'depression'])\n",
        "df = getTextFromFiles(df, data_path_d, 1, 1000)\n",
        "df = getTextFromFiles(df, data_path_nd, 0, 500)\n"
      ],
      "execution_count": 55,
      "outputs": []
    },
    {
      "cell_type": "code",
      "metadata": {
        "id": "v5mv7cVlvN7q"
      },
      "source": [
        "dataPreprocessingForX(df, 'text')\n",
        "dataPreprocessingForY(df, 'depression')\n",
        "X = df['text'].to_numpy()\n",
        "Y = df['depression'].to_numpy()\n",
        "X_train,X_test,Y_train,Y_test = train_test_split(X,Y,test_size=0.30)\n",
        "\n",
        "max_words = 1000\n",
        "max_len = 150\n",
        "\n",
        "tok = Tokenizer(num_words=max_words)\n",
        "tok.fit_on_texts(X_train)\n",
        "sequences = tok.texts_to_sequences(X_train)\n",
        "sequences_matrix = sequence.pad_sequences(sequences,maxlen=max_len)\n",
        "test_sequences = tok.texts_to_sequences(X_test)\n",
        "test_sequences_matrix = sequence.pad_sequences(test_sequences,maxlen=max_len)"
      ],
      "execution_count": 56,
      "outputs": []
    },
    {
      "cell_type": "markdown",
      "metadata": {
        "id": "iyw1U8NnJ5i2"
      },
      "source": [
        ""
      ]
    },
    {
      "cell_type": "markdown",
      "metadata": {
        "id": "ypupi9sYap6i"
      },
      "source": [
        "# K mean"
      ]
    },
    {
      "cell_type": "code",
      "metadata": {
        "id": "s-CljAjutz6H"
      },
      "source": [
        "\n",
        "def kmean(X_train_kmean):\n",
        "  init_centroid = 'k-means++'\n",
        "  y_kmList = []\n",
        "  distortions = [] \n",
        "  inertias = [] \n",
        "  mapping1 = {} \n",
        "  mapping2 = {}\n",
        "  K = range(1,10)\n",
        "  # X_train_kmean =  test_sequences_matrix\n",
        "  # X_train_kmean = counts.toarray()\n",
        "  for k in K:\n",
        "      #Building and fitting the model \n",
        "      kmeanModel = KMeans(n_clusters=k, init = init_centroid, random_state=0)\n",
        "      y_km = kmeanModel.fit(X_train_kmean)  \n",
        "        \n",
        "      distortions.append(sum(np.min(cdist(X_train_kmean, kmeanModel.cluster_centers_, \n",
        "                        'euclidean'),axis=1)) / X_train_kmean.shape[0]) \n",
        "      inertias.append(kmeanModel.inertia_) \n",
        "\n",
        "      y_kmList.append(y_km.labels_)\n",
        "\n",
        "      mapping1[k] = sum(np.min(cdist(X_train_kmean, kmeanModel.cluster_centers_, \n",
        "                  'euclidean'),axis=1)) / X_train_kmean.shape[0] \n",
        "      mapping2[k] = kmeanModel.inertia_ \n",
        "\n",
        "\n",
        "  plt.plot(K, distortions, 'bx-') \n",
        "  plt.xlabel('Values of K') \n",
        "  plt.ylabel('Distortion') \n",
        "  plt.title('The Elbow Method using Distortion') \n",
        "  plt.show() \n",
        "\n",
        "  # for key,val in mapping1.items(): \n",
        "  #   print(str(key)+' : '+str(val))\n",
        "  \n",
        "  # plt.plot(K, inertias, 'bx-')\n",
        "  # plt.xlabel('Values of K')\n",
        "  # plt.ylabel('Inertia')\n",
        "  # plt.title('The Elbow Method using Inertia') \n",
        "  # plt.show() \n",
        "\n",
        "  # for key,val in mapping2.items(): \n",
        "  #   print(str(key)+' : '+str(val))\n",
        "\n",
        "\n",
        "  return y_kmList\n",
        "# print(np.shape(y_km))\n",
        "# plt.scatter(X[y_km==0, 0], X[y_km==0,1],c='lightgreen',marker='s',s=510,label='cluster1')\n",
        "# plt.scatter(X[y_km==1, 0], X[y_km==1,1],c='orange',marker='o',s=50,label='cluster2')\n",
        "# plt.scatter(km.cluster_centers_[:,0],km.cluster_centers_[:,1],c='red',marker='*',s=50,label='center')\n",
        "\n",
        "# plt.legend()\n",
        "# plt.grid(True)\n",
        "# plt.show()\n"
      ],
      "execution_count": 57,
      "outputs": []
    },
    {
      "cell_type": "code",
      "metadata": {
        "id": "6aO2izT2vwL4"
      },
      "source": [
        "# print(sequences_matrix)\n",
        "# print(y_kmList)"
      ],
      "execution_count": 58,
      "outputs": []
    },
    {
      "cell_type": "code",
      "metadata": {
        "id": "hSp-kZQC2VjB"
      },
      "source": [
        "def kmeanClusterResult(y_kmList, X):\n",
        "  zero_list = []\n",
        "  one_list = []\n",
        "  two_list = []\n",
        "\n",
        "  for idx,iteration in enumerate(y_kmList[1]):\n",
        "    if iteration == 1:\n",
        "      one_list.append(idx)\n",
        "    elif iteration == 2:\n",
        "      two_list.append(idx)\n",
        "    else:\n",
        "      zero_list.append(idx)\n",
        "  # print(zero_list)\n",
        "  # print(one_list)\n",
        "  # print(two_list)\n",
        "  # print(X.shape)\n",
        "  cluster_zero = []\n",
        "  cluster_one = []\n",
        "  cluster_two = []\n",
        "  for index in zero_list:\n",
        "    sentence = X[index]\n",
        "    cluster_zero.append(sentence)\n",
        "    \n",
        "  # print(cluster_zero)\n",
        "  for index in one_list:\n",
        "    sentence = X[index]\n",
        "    cluster_one.append(sentence)\n",
        "\n",
        "  for index in two_list:\n",
        "    sentence = X[index]\n",
        "    cluster_two.append(sentence)\n",
        "\n",
        "  return zero_list, one_list"
      ],
      "execution_count": 59,
      "outputs": []
    },
    {
      "cell_type": "code",
      "metadata": {
        "id": "95fRgH5C51nR"
      },
      "source": [
        "def makeWorldCloud(llist):\n",
        "  depression_words = ''.join(llist)\n",
        "  depression_wordclod = WordCloud(width = 512,height = 512).generate(depression_words)\n",
        "  plt.figure(figsize = (10, 8), facecolor = 'k')\n",
        "  plt.imshow(depression_wordclod)\n",
        "  plt.axis('off')\n",
        "  plt.tight_layout(pad = 0)\n",
        "  plt.show()\n",
        "# makeWorldCloud(cluster_zero)\n",
        "# makeWorldCloud(cluster_one)\n",
        "# makeWorldCloud(cluster_two)"
      ],
      "execution_count": 60,
      "outputs": []
    },
    {
      "cell_type": "code",
      "metadata": {
        "id": "fsU616HpJmnq",
        "outputId": "2efd4410-309b-4793-d6ab-95fcebc3e1fc",
        "colab": {
          "base_uri": "https://localhost:8080/",
          "height": 581
        }
      },
      "source": [
        "y_kmList_train = kmean(sequences_matrix)\n",
        "zero_list_train, one_list_train = kmeanClusterResult(y_kmList_train, X_train)\n",
        "y_kmList_test = kmean(test_sequences_matrix)\n",
        "zero_list_test, one_list_test = kmeanClusterResult(y_kmList_test, X_test)"
      ],
      "execution_count": 61,
      "outputs": [
        {
          "output_type": "display_data",
          "data": {
            "image/png": "[encoded data removed]",
            "text/plain": [
              "<Figure size 432x288 with 1 Axes>"
            ]
          },
          "metadata": {
            "tags": []
          }
        },
        {
          "output_type": "display_data",
          "data": {
            "image/png": "[encoded data removed]",
            "text/plain": [
              "<Figure size 432x288 with 1 Axes>"
            ]
          },
          "metadata": {
            "tags": []
          }
        }
      ]
    },
    {
      "cell_type": "markdown",
      "metadata": {
        "id": "JbtW5b2BauhJ"
      },
      "source": [
        "# LSTM"
      ]
    },
    {
      "cell_type": "code",
      "metadata": {
        "id": "78qCg4MFa0po",
        "outputId": "b4466d41-31c8-450a-9a18-bb992d4c8e57",
        "colab": {
          "base_uri": "https://localhost:8080/"
        }
      },
      "source": [
        "# X_train,X_test,Y_train,Y_test = train_test_split(X,Y,test_size=0.15)\n",
        "\n",
        "max_words = 1000\n",
        "max_len = 150\n",
        "\n",
        "# tok = Tokenizer(num_words=max_words)\n",
        "# tok.fit_on_texts(X_train)\n",
        "# sequences = tok.texts_to_sequences(X_train)\n",
        "# sequences_matrix = sequence.pad_sequences(sequences,maxlen=max_len)\n",
        "# test_sequences = tok.texts_to_sequences(X_test)\n",
        "# test_sequences_matrix = sequence.pad_sequences(test_sequences,maxlen=max_len)\n",
        "\n",
        "sequences_zeroClust = tok.texts_to_sequences(X_train[zero_list_train])\n",
        "sequences_matrix_zeroClust = sequence.pad_sequences(sequences_zeroClust,maxlen=max_len)\n",
        "sequences_oneClust = tok.texts_to_sequences(X_train[one_list_train])\n",
        "sequences_matrix_oneClust = sequence.pad_sequences(sequences_oneClust,maxlen=max_len)\n",
        "\n",
        "sequences_zeroClust = tok.texts_to_sequences(X_test[zero_list_test])\n",
        "sequences_matrix_zeroClust_test = sequence.pad_sequences(sequences_zeroClust,maxlen=max_len)\n",
        "sequences_oneClust = tok.texts_to_sequences(X_test[one_list_test])\n",
        "sequences_matrix_oneClust_test = sequence.pad_sequences(sequences_oneClust,maxlen=max_len)\n",
        "\n",
        "# test_sequences_matrix = sequences_matrix_zeroClust\n",
        "# test_sequences_matrix = sequences_matrix_oneClust\n",
        "# Y_test = Y[one_list]\n",
        "\n",
        "model = tf.keras.models.Sequential()\n",
        "model.add(tf.keras.layers.Embedding(max_words,10,input_length=max_len))\n",
        "model.add(tf.keras.layers.LSTM(64))\n",
        "model.add(tf.keras.layers.Dense(256))\n",
        "model.add(tf.keras.layers.Activation('relu'))\n",
        "model.add(tf.keras.layers.Dropout(0.5))\n",
        "model.add(tf.keras.layers.Dense(1))\n",
        "model.add(tf.keras.layers.Activation('sigmoid'))\n",
        "\n",
        "# model.build(input_shape=sequences_matrix.shape)\n",
        "# model.compile(loss='binary_crossentropy',optimizer=RMSprop(),metrics=['accuracy'])\n",
        "opt = tf.keras.optimizers.Adam(learning_rate=0.0001)\n",
        "model.compile(loss='binary_crossentropy',optimizer=opt,metrics=['accuracy'])\n",
        "model.fit(sequences_matrix_zeroClust.astype(float), Y_train[zero_list_train].astype(float), batch_size=2,epochs=20,\n",
        "          validation_split=0.2,callbacks=[EarlyStopping(monitor='val_loss',min_delta=0.0001)])\n",
        "# accr = model.evaluate(test_sequences_matrix, Y_test.astype(float))\n",
        "\n",
        "# print(\" LSTM\")\n",
        "# print('Test set\\n  Loss: {:0.3f}\\n  Accuracy: {:0.3f}'.format(accr[0],accr[1]))\n",
        "\n",
        "accr = model.evaluate(sequences_matrix_zeroClust_test, Y_test[zero_list_test].astype(float))\n",
        "\n",
        "print(\" LSTM\")\n",
        "print('Test set\\n  Loss: {:0.3f}\\n  Accuracy: {:0.3f}'.format(accr[0],accr[1]))\n",
        "\n",
        "model.fit(sequences_matrix_oneClust.astype(float), Y_train[one_list_train].astype(float), batch_size=2,epochs=20,\n",
        "          validation_split=0.2,callbacks=[EarlyStopping(monitor='val_loss',min_delta=0.0001)])\n",
        "# test_sequences_matrix = sequences_matrix_oneClust\n",
        "# Y_test_LSTM = Y_test[one_list_test]\n",
        "accr = model.evaluate(sequences_matrix_oneClust_test, Y_test[one_list_test].astype(float))\n",
        "\n",
        "print(\" LSTM\")\n",
        "print('Test set\\n  Loss: {:0.3f}\\n  Accuracy: {:0.3f}'.format(accr[0],accr[1]))\n"
      ],
      "execution_count": 62,
      "outputs": [
        {
          "output_type": "stream",
          "text": [
            "Epoch 1/20\n",
            "279/279 [==============================] - 3s 11ms/step - loss: 0.6372 - accuracy: 0.7491 - val_loss: 0.5462 - val_accuracy: 0.7643\n",
            "Epoch 2/20\n",
            "279/279 [==============================] - 2s 9ms/step - loss: 0.5710 - accuracy: 0.7437 - val_loss: 0.5383 - val_accuracy: 0.7643\n",
            "Epoch 3/20\n",
            "279/279 [==============================] - 2s 9ms/step - loss: 0.5591 - accuracy: 0.7437 - val_loss: 0.5300 - val_accuracy: 0.7643\n",
            "Epoch 4/20\n",
            "279/279 [==============================] - 3s 9ms/step - loss: 0.5341 - accuracy: 0.7437 - val_loss: 0.5039 - val_accuracy: 0.7643\n",
            "Epoch 5/20\n",
            "279/279 [==============================] - 3s 9ms/step - loss: 0.4999 - accuracy: 0.7437 - val_loss: 0.4511 - val_accuracy: 0.7643\n",
            "Epoch 6/20\n",
            "279/279 [==============================] - 3s 9ms/step - loss: 0.3955 - accuracy: 0.7724 - val_loss: 0.3708 - val_accuracy: 0.8000\n",
            "Epoch 7/20\n",
            "279/279 [==============================] - 3s 9ms/step - loss: 0.3035 - accuracy: 0.8871 - val_loss: 0.3490 - val_accuracy: 0.8357\n",
            "Epoch 8/20\n",
            "279/279 [==============================] - 2s 9ms/step - loss: 0.2194 - accuracy: 0.9391 - val_loss: 0.3715 - val_accuracy: 0.8786\n",
            "9/9 [==============================] - 0s 6ms/step - loss: 0.3662 - accuracy: 0.8683\n",
            " LSTM\n",
            "Test set\n",
            "  Loss: 0.366\n",
            "  Accuracy: 0.868\n",
            "Epoch 1/20\n",
            "141/141 [==============================] - 2s 13ms/step - loss: 0.5902 - accuracy: 0.7473 - val_loss: 0.6015 - val_accuracy: 0.6761\n",
            "Epoch 2/20\n",
            "141/141 [==============================] - 2s 11ms/step - loss: 0.4513 - accuracy: 0.8185 - val_loss: 0.5316 - val_accuracy: 0.7465\n",
            "Epoch 3/20\n",
            "141/141 [==============================] - 2s 11ms/step - loss: 0.3045 - accuracy: 0.8719 - val_loss: 0.4889 - val_accuracy: 0.7606\n",
            "Epoch 4/20\n",
            "141/141 [==============================] - 2s 11ms/step - loss: 0.2259 - accuracy: 0.9110 - val_loss: 0.5986 - val_accuracy: 0.8169\n",
            "6/6 [==============================] - 0s 4ms/step - loss: 0.3796 - accuracy: 0.8462\n",
            " LSTM\n",
            "Test set\n",
            "  Loss: 0.380\n",
            "  Accuracy: 0.846\n"
          ],
          "name": "stdout"
        }
      ]
    }
  ]
}